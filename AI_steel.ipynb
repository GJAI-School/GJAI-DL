{
 "cells": [
  {
   "cell_type": "code",
   "execution_count": 5,
   "metadata": {},
   "outputs": [
    {
     "name": "stdout",
     "output_type": "stream",
     "text": [
      "Epoch 1: loss=33.875, accuracy=0.557/0.812\n",
      "Epoch 2: loss=8.226, accuracy=0.820/0.814\n",
      "Epoch 3: loss=7.582, accuracy=0.812/0.809\n",
      "Epoch 4: loss=7.475, accuracy=0.808/0.811\n",
      "Epoch 5: loss=7.395, accuracy=0.810/0.809\n",
      "Epoch 6: loss=7.328, accuracy=0.808/0.810\n",
      "Epoch 7: loss=7.269, accuracy=0.808/0.811\n",
      "Epoch 8: loss=7.217, accuracy=0.808/0.812\n",
      "Epoch 9: loss=7.175, accuracy=0.810/0.810\n",
      "Epoch 10: loss=7.135, accuracy=0.809/0.810\n",
      "\n",
      "Final Test: final accuracy = 0.810\n",
      "[[1.02697603]\n",
      " [1.47450981]\n",
      " [1.66960135]\n",
      " [2.04468668]\n",
      " [1.62513525]\n",
      " [0.60292627]\n",
      " [2.39993815]\n",
      " [0.54107313]\n",
      " [0.46878034]\n",
      " [1.01969382]]\n",
      "[4.16894769]\n",
      "(array([8.65881481]), array([0.  , 1.  , 0.  , 0.44, 0.3 , 0.08, 0.5 , 0.23, 0.11, 0.2 ]))\n",
      "Epoch 20: loss=5.804, accuracy=0.825/0.831\n",
      "Epoch 40: loss=5.259, accuracy=0.834/0.828\n",
      "Epoch 60: loss=5.056, accuracy=0.837/0.838\n",
      "Epoch 80: loss=4.950, accuracy=0.838/0.840\n",
      "Epoch 100: loss=4.910, accuracy=0.840/0.826\n",
      "\n",
      "Final Test: final accuracy = 0.826\n"
     ]
    }
   ],
   "source": [
    "%run ./AI_abalone.ipynb"
   ]
  },
  {
   "cell_type": "markdown",
   "metadata": {},
   "source": [
    "## A.1 메인함수 정의"
   ]
  },
  {
   "cell_type": "code",
   "execution_count": 14,
   "metadata": {},
   "outputs": [],
   "source": [
    "def steel_exec(epoch_count=10, mb_size = 10, report =1):\n",
    "    load_steel_dataset()\n",
    "    init_model()\n",
    "    train_and_test(epoch_count,mb_size,report)"
   ]
  },
  {
   "cell_type": "markdown",
   "metadata": {},
   "source": [
    "## B.1 데이터 적재 함수 정의"
   ]
  },
  {
   "cell_type": "code",
   "execution_count": 16,
   "metadata": {},
   "outputs": [],
   "source": [
    "def load_steel_dataset():\n",
    "    with open('./data/faults.csv') as csvfile:\n",
    "        csvreader = csv.reader(csvfile)\n",
    "        next(csvreader, None)\n",
    "        rows = []\n",
    "        for row in csvreader:\n",
    "            rows.append(row)\n",
    "            \n",
    "    global data, input_cnt, output_cnt\n",
    "    \n",
    "    input_cnt, output_cnt = 27, 7   \n",
    "    data = np.asarray(rows, dtype='float32')"
   ]
  },
  {
   "cell_type": "markdown",
   "metadata": {},
   "source": [
    "## D.2 E.2 후처리 과정에 대한 순전파와 역전파 함수의 재정의 "
   ]
  },
  {
   "cell_type": "code",
   "execution_count": 17,
   "metadata": {},
   "outputs": [],
   "source": [
    "def forward_postproc(output, y):\n",
    "    entropy = softmax_cross_entropy_with_logits(y, output) \n",
    "    loss = np.mean(entropy) \n",
    "    return loss, [y, output, entropy] \n",
    "\n",
    "\n",
    "def backprop_postproc(G_loss, aux): \n",
    "    y, output, entropy = aux \n",
    "    g_loss_entropy = 1.0 / np.prod(entropy.shape)\n",
    "    g_entropy_output = softmax_cross_entropy_with_logits_derv(y,output)\n",
    "    \n",
    "    G_entropy = g_loss_entropy * G_loss\n",
    "    G_output = g_entropy_output * G_entropy\n",
    "    \n",
    "    return G_output"
   ]
  },
  {
   "cell_type": "markdown",
   "metadata": {},
   "source": [
    "## D.3 정확도 계산 함수 정의"
   ]
  },
  {
   "cell_type": "code",
   "execution_count": 19,
   "metadata": {},
   "outputs": [],
   "source": [
    "def eval_accuracy(output, y): \n",
    "    estimate = np.argmax(output, axis=1)\n",
    "    answer = np.argmax(y, axis = 1) \n",
    "    correct = np.equal(estimate, answer)\n",
    "    \n",
    "    return np.mean(correct)  "
   ]
  },
  {
   "cell_type": "markdown",
   "metadata": {},
   "source": [
    "## F.1~3 소프트맥스 관련 함수 정의"
   ]
  },
  {
   "cell_type": "code",
   "execution_count": 34,
   "metadata": {},
   "outputs": [],
   "source": [
    "def softmax(x):\n",
    "    max_elem = np.max(x, axis=1) \n",
    "    diff = (x.transpose() - max_elem).transpose()\n",
    "    exp = np.exp(diff) \n",
    "    sum_exp = np.sum(exp, axis=1)\n",
    "    probs = (exp.transpose()/sum_exp).transpose()\n",
    "    return probs  \n",
    "\n",
    "def softmax_cross_entropy_with_logits(labels, logits):\n",
    "    probs = softmax(logits) \n",
    "    return -np.sum(labels * np.log(probs + 1.0e-10), axis=1)\n",
    "    \n",
    "def softmax_cross_entropy_with_logits_derv(labels, logits):\n",
    "    return softmax(logits) - labels"
   ]
  },
  {
   "cell_type": "markdown",
   "metadata": {},
   "source": [
    "## 실행하기"
   ]
  },
  {
   "cell_type": "code",
   "execution_count": 35,
   "metadata": {},
   "outputs": [
    {
     "name": "stdout",
     "output_type": "stream",
     "text": [
      "Epoch 1: loss=16.430, accuracy=0.286/0.373\n",
      "Epoch 2: loss=15.940, accuracy=0.308/0.256\n",
      "Epoch 3: loss=16.237, accuracy=0.295/0.363\n",
      "Epoch 4: loss=15.613, accuracy=0.322/0.355\n",
      "Epoch 5: loss=15.435, accuracy=0.330/0.355\n",
      "Epoch 6: loss=15.509, accuracy=0.326/0.373\n",
      "Epoch 7: loss=15.197, accuracy=0.340/0.215\n",
      "Epoch 8: loss=15.866, accuracy=0.311/0.348\n",
      "Epoch 9: loss=15.182, accuracy=0.341/0.379\n",
      "Epoch 10: loss=15.851, accuracy=0.312/0.437\n",
      "\n",
      "Final Test: final accuracy = 0.437\n"
     ]
    }
   ],
   "source": [
    "steel_exec()"
   ]
  },
  {
   "cell_type": "code",
   "execution_count": 21,
   "metadata": {},
   "outputs": [
    {
     "name": "stdout",
     "output_type": "stream",
     "text": [
      "Epoch 1: loss=16.593, accuracy=0.279/0.271\n",
      "Epoch 2: loss=15.747, accuracy=0.316/0.425\n",
      "Epoch 3: loss=14.603, accuracy=0.366/0.307\n",
      "Epoch 4: loss=15.316, accuracy=0.335/0.315\n",
      "Epoch 5: loss=15.509, accuracy=0.326/0.379\n",
      "Epoch 6: loss=15.479, accuracy=0.328/0.304\n",
      "Epoch 7: loss=15.242, accuracy=0.338/0.315\n",
      "Epoch 8: loss=15.539, accuracy=0.325/0.427\n",
      "Epoch 9: loss=15.301, accuracy=0.335/0.164\n",
      "Epoch 10: loss=15.880, accuracy=0.310/0.205\n",
      "\n",
      "Final Test: final accuracy = 0.205\n"
     ]
    }
   ],
   "source": [
    "LEARNING_RATE = 0.0001\n",
    "steel_exec()"
   ]
  }
 ],
 "metadata": {
  "kernelspec": {
   "display_name": "Python 3",
   "language": "python",
   "name": "python3"
  },
  "language_info": {
   "codemirror_mode": {
    "name": "ipython",
    "version": 3
   },
   "file_extension": ".py",
   "mimetype": "text/x-python",
   "name": "python",
   "nbconvert_exporter": "python",
   "pygments_lexer": "ipython3",
   "version": "3.7.6"
  }
 },
 "nbformat": 4,
 "nbformat_minor": 2
}
