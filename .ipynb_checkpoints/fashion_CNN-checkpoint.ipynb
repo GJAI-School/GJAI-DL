{
 "cells": [
  {
   "cell_type": "code",
   "execution_count": 1,
   "metadata": {},
   "outputs": [
    {
     "name": "stdout",
     "output_type": "stream",
     "text": [
      "2.0.0\n"
     ]
    }
   ],
   "source": [
    "import tensorflow as tf\n",
    "print(tf.__version__)"
   ]
  },
  {
   "cell_type": "markdown",
   "metadata": {},
   "source": [
    "#### 데이터셋 로드"
   ]
  },
  {
   "cell_type": "code",
   "execution_count": 2,
   "metadata": {},
   "outputs": [
    {
     "name": "stdout",
     "output_type": "stream",
     "text": [
      "Downloading data from https://storage.googleapis.com/tensorflow/tf-keras-datasets/train-labels-idx1-ubyte.gz\n",
      "32768/29515 [=================================] - 0s 1us/step\n",
      "Downloading data from https://storage.googleapis.com/tensorflow/tf-keras-datasets/train-images-idx3-ubyte.gz\n",
      "26427392/26421880 [==============================] - 9s 0us/step\n",
      "Downloading data from https://storage.googleapis.com/tensorflow/tf-keras-datasets/t10k-labels-idx1-ubyte.gz\n",
      "8192/5148 [===============================================] - 0s 0s/step\n",
      "Downloading data from https://storage.googleapis.com/tensorflow/tf-keras-datasets/t10k-images-idx3-ubyte.gz\n",
      "4423680/4422102 [==============================] - 2s 1us/step\n",
      "(60000, 28, 28) (60000,)\n",
      "(10000, 28, 28) (10000,)\n"
     ]
    }
   ],
   "source": [
    "fashion_mnist = tf.keras.datasets.fashion_mnist\n",
    "(X_train, y_train), (X_test, y_test) = fashion_mnist.load_data()\n",
    "\n",
    "# 총 6만개의 이미지, size = (28x28)\n",
    "print(X_train.shape, y_train.shape)\n",
    "print(X_test.shape, y_test.shape)"
   ]
  },
  {
   "cell_type": "markdown",
   "metadata": {},
   "source": [
    "#### min-max정규화작업\n",
    "- 최소, 최대 정규화는 데이터를 정규화하는 가장 일반적인 방법\n",
    "- 모든 feature에 대해 각각 최소값 0, 최대값 1\n",
    "- 0과 1사이의 값으로 변환하는 거다\n",
    "\n",
    "==> 이 작업을 통해서 이미지의 최소값은 0, 최대값은 255임을 확인"
   ]
  },
  {
   "cell_type": "code",
   "execution_count": 3,
   "metadata": {},
   "outputs": [
    {
     "data": {
      "image/png": "[encoded data removed]",
      "text/plain": [
       "<Figure size 432x288 with 2 Axes>"
      ]
     },
     "metadata": {
      "needs_background": "light"
     },
     "output_type": "display_data"
    }
   ],
   "source": [
    "import matplotlib.pyplot as plt\n",
    "\n",
    "plt.imshow(X_train[2], cmap='pink') # cmap을 통해 이미지의 출력색상 선택\n",
    "plt.colorbar() # 우측 색상값에 대한 정보를 바 형태로 표시\n",
    "plt.show()"
   ]
  },
  {
   "cell_type": "code",
   "execution_count": 4,
   "metadata": {},
   "outputs": [
    {
     "name": "stdout",
     "output_type": "stream",
     "text": [
      "0\n"
     ]
    }
   ],
   "source": [
    "print(y_train[2])"
   ]
  },
  {
   "cell_type": "code",
   "execution_count": 5,
   "metadata": {},
   "outputs": [
    {
     "name": "stdout",
     "output_type": "stream",
     "text": [
      "[[  0   0   0   0   0   0   0   0   0  22 118  24   0   0   0   0   0  48\n",
      "   88   5   0   0   0   0   0   0   0   0]\n",
      " [  0   0   0   0   0   0   0   0  12 100 212 205 185 179 173 186 193 221\n",
      "  142  85   0   0   0   0   0   0   0   0]\n",
      " [  0   0   0   0   0   0   0   0   0  85  76 199 225 248 255 238 226 157\n",
      "   68  80   0   0   0   0   0   0   0   0]\n",
      " [  0   0   0   0   0   0   0   0   0  91  69  91 201 218 225 209 158  61\n",
      "   93  72   0   0   0   0   0   0   0   0]\n",
      " [  0   0   0   0   0   0   0   0   0  79  89  61  59  87 108  75  56  76\n",
      "   97  73   0   0   0   0   0   0   0   0]\n",
      " [  0   0   0   0   0   0   0   0   0  75  89  80  80  67  63  73  83  80\n",
      "   96  72   0   0   0   0   0   0   0   0]\n",
      " [  0   0   0   0   0   0   0   0   0  77  88  77  80  83  83  83  83  81\n",
      "   95  76   0   0   0   0   0   0   0   0]\n",
      " [  0   0   0   0   0   0   0   0   0  89  96  80  83  81  84  85  85  85\n",
      "   97  84   0   0   0   0   0   0   0   0]\n",
      " [  0   0   0   0   0   0   0   0   0  93  97  81  85  84  85  87  88  84\n",
      "   99  87   0   0   0   0   0   0   0   0]\n",
      " [  0   0   0   0   0   0   0   0   0  95  87  84  87  88  85  87  87  84\n",
      "   92  87   0   0   0   0   0   0   0   0]\n",
      " [  0   0   0   0   0   0   0   0   0  97  87  87  85  88  87  87  87  88\n",
      "   85 107   0   0   0   0   0   0   0   0]\n",
      " [  0   0   0   0   0   0   0   0  17 100  88  87  87  88  87  87  85  89\n",
      "   77 118   8   0   0   0   0   0   0   0]\n",
      " [  0   0   0   0   0   0   0   0  10  93  87  87  87  87  87  88  87  89\n",
      "   80 103   0   0   0   0   0   0   0   0]\n",
      " [  0   0   0   0   0   0   0   0   9  96  87  87  87  87  87  88  87  88\n",
      "   87 103   0   0   0   0   0   0   0   0]\n",
      " [  0   0   0   0   0   0   0   0  12  96  85  87  87  87  85  87  87  88\n",
      "   89 100   2   0   0   0   0   0   0   0]\n",
      " [  0   0   0   0   0   0   0   0  20  95  84  88  85  87  88  88  88  89\n",
      "   88  99   8   0   0   0   0   0   0   0]\n",
      " [  0   0   0   0   0   0   0   0  21  96  85  87  85  88  88  88  88  89\n",
      "   89  99  10   0   0   0   0   0   0   0]\n",
      " [  0   0   0   0   0   0   0   0  24  96  85  87  85  87  88  88  89  88\n",
      "   91 102  14   0   0   0   0   0   0   0]\n",
      " [  0   0   0   0   0   0   0   0  25  93  84  88  87  87  87  87  87  89\n",
      "   91 103  29   0   0   0   0   0   0   0]\n",
      " [  0   0   0   0   0   0   0   0  30  95  85  88  88  87  87  87  87  89\n",
      "   88 102  37   0   0   0   0   0   0   0]\n",
      " [  0   0   0   0   0   0   0   0  34  96  88  87  87  87  87  87  87  85\n",
      "   85  97  38   0   0   0   0   0   0   0]\n",
      " [  0   0   0   0   0   0   0   0  40  96  87  85  87  87  87  87  87  85\n",
      "   84  92  49   0   0   0   0   0   0   0]\n",
      " [  0   0   0   0   0   0   0   0  46  95  83  84  87  87  87  87  87  87\n",
      "   84  87  84   0   0   0   0   0   0   0]\n",
      " [  0   0   0   0   0   0   0   0  72  95  85  84  85  88  87  87  89  87\n",
      "   85  83  63   0   0   0   0   0   0   0]\n",
      " [  0   0   0   0   0   0   0   0  64 100  84  87  88  85  88  88  84  87\n",
      "   83  95  53   0   0   0   0   0   0   0]\n",
      " [  0   0   0   0   0   0   0   0  10 102 100  91  91  89  85  84  84  87\n",
      "  108 106  14   0   0   0   0   0   0   0]\n",
      " [  0   0   0   0   0   0   0   0   0   8  73  93 104 107 103 103 106 102\n",
      "   75  10   0   0   0   0   0   0   0   0]\n",
      " [  0   0   0   0   0   0   0   0   1   0   0   0  18  42  57  56  32   8\n",
      "    0   0   1   0   0   0   0   0   0   0]]\n"
     ]
    }
   ],
   "source": [
    "print(X_train[2]) # 위의 이미지 픽셀 행렬"
   ]
  },
  {
   "cell_type": "code",
   "execution_count": null,
   "metadata": {},
   "outputs": [],
   "source": []
  },
  {
   "cell_type": "code",
   "execution_count": null,
   "metadata": {},
   "outputs": [],
   "source": []
  },
  {
   "cell_type": "code",
   "execution_count": null,
   "metadata": {},
   "outputs": [],
   "source": []
  },
  {
   "cell_type": "code",
   "execution_count": null,
   "metadata": {},
   "outputs": [],
   "source": []
  },
  {
   "cell_type": "code",
   "execution_count": null,
   "metadata": {},
   "outputs": [],
   "source": []
  },
  {
   "cell_type": "code",
   "execution_count": null,
   "metadata": {},
   "outputs": [],
   "source": []
  }
 ],
 "metadata": {
  "kernelspec": {
   "display_name": "Python 3",
   "language": "python",
   "name": "python3"
  },
  "language_info": {
   "codemirror_mode": {
    "name": "ipython",
    "version": 3
   },
   "file_extension": ".py",
   "mimetype": "text/x-python",
   "name": "python",
   "nbconvert_exporter": "python",
   "pygments_lexer": "ipython3",
   "version": "3.7.6"
  }
 },
 "nbformat": 4,
 "nbformat_minor": 4
}
